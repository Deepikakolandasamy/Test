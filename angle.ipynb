{
 "cells": [
  {
   "cell_type": "code",
   "execution_count": 6,
   "metadata": {},
   "outputs": [
    {
     "name": "stderr",
     "output_type": "stream",
     "text": [
      " * Running on http://0.0.0.0:5000/ (Press CTRL+C to quit)\n",
      "127.0.0.1 - - [11/May/2020 18:28:28] \"\u001b[37mGET / HTTP/1.1\u001b[0m\" 200 -\n",
      "127.0.0.1 - - [11/May/2020 18:28:31] \"\u001b[37mPOST /user HTTP/1.1\u001b[0m\" 200 -\n",
      "127.0.0.1 - - [11/May/2020 18:28:37] \"\u001b[37mPOST /user HTTP/1.1\u001b[0m\" 200 -\n",
      "127.0.0.1 - - [11/May/2020 18:28:51] \"\u001b[37mPOST /user HTTP/1.1\u001b[0m\" 200 -\n"
     ]
    }
   ],
   "source": [
    "\n",
    "# coding: utf-8\n",
    "\n",
    "# In[2]:\n",
    "\n",
    "\n",
    "from flask import Flask, flash, redirect, render_template, request, session\n",
    "import random\n",
    "import os\n",
    "app = Flask(__name__, template_folder='flask_template')\n",
    "error=''\n",
    "message=\"e\"\n",
    "\n",
    "\n",
    "@app.route('/',methods=['GET'])\n",
    "def home():\n",
    "    return render_template('angle.html',message=message)\n",
    "\n",
    "@app.route('/user',methods=['POST'])\n",
    "def reset():\n",
    "    try:\n",
    "        hour=int(request.form['hour'])\n",
    "        minute=int(request.form['minute'])\n",
    "        if (((hour >= 0) & (hour <= 12)) & ((minute >= 0) & (minute <= 60))):\n",
    "            angle=abs((hour * 30 + minute * 0.5)-(minute * 6))\n",
    "            message=\"Angle between the hour and minute: \"+str(angle)\n",
    "            return render_template('angle.html',message=message)    \n",
    "        else:\n",
    "            message='Enter correct time'\n",
    "            return render_template('angle.html',message=message)\n",
    "    except:\n",
    "        message = \"Enter some interger value\"\n",
    "        return render_template('angle.html',message=message)\n",
    "\n",
    "\n",
    "if __name__ == \"__main__\":\n",
    "    app.secret_key = os.urandom(12)\n",
    "    app.run(debug=False,host='0.0.0.0')\n",
    "\n",
    "\n",
    "\n",
    "\n"
   ]
  },
  {
   "cell_type": "code",
   "execution_count": null,
   "metadata": {
    "collapsed": true
   },
   "outputs": [],
   "source": []
  }
 ],
 "metadata": {
  "kernelspec": {
   "display_name": "Python 3",
   "language": "python",
   "name": "python3"
  },
  "language_info": {
   "codemirror_mode": {
    "name": "ipython",
    "version": 3
   },
   "file_extension": ".py",
   "mimetype": "text/x-python",
   "name": "python",
   "nbconvert_exporter": "python",
   "pygments_lexer": "ipython3",
   "version": "3.6.1"
  }
 },
 "nbformat": 4,
 "nbformat_minor": 2
}
